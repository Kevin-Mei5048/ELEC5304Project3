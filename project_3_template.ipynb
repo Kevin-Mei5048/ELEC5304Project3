{
  "nbformat": 4,
  "nbformat_minor": 0,
  "metadata": {
    "colab": {
      "provenance": []
    },
    "kernelspec": {
      "name": "python3",
      "display_name": "Python 3"
    },
    "language_info": {
      "name": "python"
    },
    "accelerator": "GPU",
    "widgets": {
      "application/vnd.jupyter.widget-state+json": {
        "d4198afcb45c4666903c3bac01ac13e9": {
          "model_module": "@jupyter-widgets/controls",
          "model_name": "HBoxModel",
          "state": {
            "_view_name": "HBoxView",
            "_dom_classes": [],
            "_model_name": "HBoxModel",
            "_view_module": "@jupyter-widgets/controls",
            "_model_module_version": "1.5.0",
            "_view_count": null,
            "_view_module_version": "1.5.0",
            "box_style": "",
            "layout": "IPY_MODEL_72a15f76c66a4ab2976f2f594d13efb3",
            "_model_module": "@jupyter-widgets/controls",
            "children": [
              "IPY_MODEL_883f59c93950402581275bf7b4fa879d",
              "IPY_MODEL_8c2382300eca4652b4fcacecd932229b"
            ]
          },
          "model_module_version": "1.5.0"
        },
        "72a15f76c66a4ab2976f2f594d13efb3": {
          "model_module": "@jupyter-widgets/base",
          "model_name": "LayoutModel",
          "state": {
            "_view_name": "LayoutView",
            "grid_template_rows": null,
            "right": null,
            "justify_content": null,
            "_view_module": "@jupyter-widgets/base",
            "overflow": null,
            "_model_module_version": "1.2.0",
            "_view_count": null,
            "flex_flow": null,
            "width": null,
            "min_width": null,
            "border": null,
            "align_items": null,
            "bottom": null,
            "_model_module": "@jupyter-widgets/base",
            "top": null,
            "grid_column": null,
            "overflow_y": null,
            "overflow_x": null,
            "grid_auto_flow": null,
            "grid_area": null,
            "grid_template_columns": null,
            "flex": null,
            "_model_name": "LayoutModel",
            "justify_items": null,
            "grid_row": null,
            "max_height": null,
            "align_content": null,
            "visibility": null,
            "align_self": null,
            "height": null,
            "min_height": null,
            "padding": null,
            "grid_auto_rows": null,
            "grid_gap": null,
            "max_width": null,
            "order": null,
            "_view_module_version": "1.2.0",
            "grid_template_areas": null,
            "object_position": null,
            "object_fit": null,
            "grid_auto_columns": null,
            "margin": null,
            "display": null,
            "left": null
          },
          "model_module_version": "1.2.0"
        },
        "883f59c93950402581275bf7b4fa879d": {
          "model_module": "@jupyter-widgets/controls",
          "model_name": "FloatProgressModel",
          "state": {
            "_view_name": "ProgressView",
            "style": "IPY_MODEL_75c8f23dbca54b9d8bba7210d94c84bf",
            "_dom_classes": [],
            "description": "",
            "_model_name": "FloatProgressModel",
            "bar_style": "success",
            "max": 170498071,
            "_view_module": "@jupyter-widgets/controls",
            "_model_module_version": "1.5.0",
            "value": 170498071,
            "_view_count": null,
            "_view_module_version": "1.5.0",
            "orientation": "horizontal",
            "min": 0,
            "description_tooltip": null,
            "_model_module": "@jupyter-widgets/controls",
            "layout": "IPY_MODEL_77b6159983954a00a48f86829e65b06c"
          },
          "model_module_version": "1.5.0"
        },
        "8c2382300eca4652b4fcacecd932229b": {
          "model_module": "@jupyter-widgets/controls",
          "model_name": "HTMLModel",
          "state": {
            "_view_name": "HTMLView",
            "style": "IPY_MODEL_9bb2288b810144b3b0de9124b8086af7",
            "_dom_classes": [],
            "description": "",
            "_model_name": "HTMLModel",
            "placeholder": "​",
            "_view_module": "@jupyter-widgets/controls",
            "_model_module_version": "1.5.0",
            "value": " 170499072/? [00:20&lt;00:00, 8304427.15it/s]",
            "_view_count": null,
            "_view_module_version": "1.5.0",
            "description_tooltip": null,
            "_model_module": "@jupyter-widgets/controls",
            "layout": "IPY_MODEL_033d6d4e11b442e0b93b4bb986f99f52"
          },
          "model_module_version": "1.5.0"
        },
        "75c8f23dbca54b9d8bba7210d94c84bf": {
          "model_module": "@jupyter-widgets/controls",
          "model_name": "ProgressStyleModel",
          "state": {
            "_view_name": "StyleView",
            "_model_name": "ProgressStyleModel",
            "description_width": "initial",
            "_view_module": "@jupyter-widgets/base",
            "_model_module_version": "1.5.0",
            "_view_count": null,
            "_view_module_version": "1.2.0",
            "bar_color": null,
            "_model_module": "@jupyter-widgets/controls"
          },
          "model_module_version": "1.5.0"
        },
        "77b6159983954a00a48f86829e65b06c": {
          "model_module": "@jupyter-widgets/base",
          "model_name": "LayoutModel",
          "state": {
            "_view_name": "LayoutView",
            "grid_template_rows": null,
            "right": null,
            "justify_content": null,
            "_view_module": "@jupyter-widgets/base",
            "overflow": null,
            "_model_module_version": "1.2.0",
            "_view_count": null,
            "flex_flow": null,
            "width": null,
            "min_width": null,
            "border": null,
            "align_items": null,
            "bottom": null,
            "_model_module": "@jupyter-widgets/base",
            "top": null,
            "grid_column": null,
            "overflow_y": null,
            "overflow_x": null,
            "grid_auto_flow": null,
            "grid_area": null,
            "grid_template_columns": null,
            "flex": null,
            "_model_name": "LayoutModel",
            "justify_items": null,
            "grid_row": null,
            "max_height": null,
            "align_content": null,
            "visibility": null,
            "align_self": null,
            "height": null,
            "min_height": null,
            "padding": null,
            "grid_auto_rows": null,
            "grid_gap": null,
            "max_width": null,
            "order": null,
            "_view_module_version": "1.2.0",
            "grid_template_areas": null,
            "object_position": null,
            "object_fit": null,
            "grid_auto_columns": null,
            "margin": null,
            "display": null,
            "left": null
          },
          "model_module_version": "1.2.0"
        },
        "9bb2288b810144b3b0de9124b8086af7": {
          "model_module": "@jupyter-widgets/controls",
          "model_name": "DescriptionStyleModel",
          "state": {
            "_view_name": "StyleView",
            "_model_name": "DescriptionStyleModel",
            "description_width": "",
            "_view_module": "@jupyter-widgets/base",
            "_model_module_version": "1.5.0",
            "_view_count": null,
            "_view_module_version": "1.2.0",
            "_model_module": "@jupyter-widgets/controls"
          },
          "model_module_version": "1.5.0"
        },
        "033d6d4e11b442e0b93b4bb986f99f52": {
          "model_module": "@jupyter-widgets/base",
          "model_name": "LayoutModel",
          "state": {
            "_view_name": "LayoutView",
            "grid_template_rows": null,
            "right": null,
            "justify_content": null,
            "_view_module": "@jupyter-widgets/base",
            "overflow": null,
            "_model_module_version": "1.2.0",
            "_view_count": null,
            "flex_flow": null,
            "width": null,
            "min_width": null,
            "border": null,
            "align_items": null,
            "bottom": null,
            "_model_module": "@jupyter-widgets/base",
            "top": null,
            "grid_column": null,
            "overflow_y": null,
            "overflow_x": null,
            "grid_auto_flow": null,
            "grid_area": null,
            "grid_template_columns": null,
            "flex": null,
            "_model_name": "LayoutModel",
            "justify_items": null,
            "grid_row": null,
            "max_height": null,
            "align_content": null,
            "visibility": null,
            "align_self": null,
            "height": null,
            "min_height": null,
            "padding": null,
            "grid_auto_rows": null,
            "grid_gap": null,
            "max_width": null,
            "order": null,
            "_view_module_version": "1.2.0",
            "grid_template_areas": null,
            "object_position": null,
            "object_fit": null,
            "grid_auto_columns": null,
            "margin": null,
            "display": null,
            "left": null
          },
          "model_module_version": "1.2.0"
        }
      }
    }
  },
  "cells": [
    {
      "cell_type": "markdown",
      "metadata": {
        "id": "aWQZNpJgLAZC"
      },
      "source": [
        "# Project 3. Limited time training\n",
        "\n",
        " In project 3, you're going to improve your network under the limitation of time, specifically 10 minutes. You can borrow any structure that you consider viable, but pretrained models are **NOT allowed**.\n",
        "\n",
        "**Hint**: Most of the popular networks can't converge in 10 minutes, so if you decide to borrow any, you'd have to trim the network a little to fit into the time frame."
      ]
    },
    {
      "cell_type": "markdown",
      "metadata": {
        "id": "2vBi1AzTSoES"
      },
      "source": [
        "## 1. Preparation\n",
        "\n",
        "This project is time limited, we need to make sure that your hardwares are exactly the same, try the following code, if you see 'GPU correct, proceed.', you can continue the project, otherwise, click the dropdown at the upper right corner besides the status bar (RAM, Disk), and go to 'Manage sessions', and terminate the current session, then reconnect, and try the code again, repeat until you see the right message."
      ]
    },
    {
      "cell_type": "code",
      "metadata": {
        "colab": {
          "base_uri": "https://localhost:8080/"
        },
        "id": "I1uoQawsBsdD",
        "outputId": "4d662b0c-30a7-4d91-f077-e821be3fba67"
      },
      "source": [
        "!if [ $(nvidia-smi | grep Tesla | tr -s \" \" | cut -d' ' -f4) == 'T4' ]; then echo \"GPU correct, proceed.\"; else echo \"GPU incorrect, please terminate this session and reconnect again.\"; fi"
      ],
      "execution_count": null,
      "outputs": [
        {
          "output_type": "stream",
          "text": [
            "GPU correct, proceed.\n"
          ],
          "name": "stdout"
        }
      ]
    },
    {
      "cell_type": "markdown",
      "metadata": {
        "id": "NFg9DbPZU5s8"
      },
      "source": [
        "## 2. Before training\n",
        "\n",
        "For dataset, we continue to use CIFAR10, in this part, you can configure all of your settings, including data augmentation, model structure, optimizer etc., but don't put any major calculation part in."
      ]
    },
    {
      "cell_type": "markdown",
      "metadata": {
        "id": "sk--hkA1agMz"
      },
      "source": [
        "### 2.1 Dataset"
      ]
    },
    {
      "cell_type": "code",
      "metadata": {
        "colab": {
          "base_uri": "https://localhost:8080/",
          "height": 117,
          "referenced_widgets": [
            "d4198afcb45c4666903c3bac01ac13e9",
            "72a15f76c66a4ab2976f2f594d13efb3",
            "883f59c93950402581275bf7b4fa879d",
            "8c2382300eca4652b4fcacecd932229b",
            "75c8f23dbca54b9d8bba7210d94c84bf",
            "77b6159983954a00a48f86829e65b06c",
            "9bb2288b810144b3b0de9124b8086af7",
            "033d6d4e11b442e0b93b4bb986f99f52"
          ]
        },
        "id": "GcyQM7qiLagn",
        "outputId": "884554b6-13a3-44c9-f487-b0c3a9a2adae"
      },
      "source": [
        "import torch\n",
        "import torch.nn as nn\n",
        "import torch.optim as optim\n",
        "import torchvision\n",
        "from torch.utils.data import DataLoader\n",
        "import numpy as np\n",
        "\n",
        "\n",
        "cifar10_train = torchvision.datasets.CIFAR10(\"CIFAR10\", train=True, transform=lambda x: np.array(x, dtype=np.float32).transpose(2,0,1),\n",
        "                                         target_transform=None, download=True)\n",
        "cifar10_test = torchvision.datasets.CIFAR10(\"CIFAR10\", train=False, transform=lambda x: np.array(x, dtype=np.float32).transpose(2,0,1),\n",
        "                                         target_transform=None, download=True)"
      ],
      "execution_count": null,
      "outputs": [
        {
          "output_type": "stream",
          "text": [
            "Downloading https://www.cs.toronto.edu/~kriz/cifar-10-python.tar.gz to CIFAR10/cifar-10-python.tar.gz\n"
          ],
          "name": "stdout"
        },
        {
          "output_type": "display_data",
          "data": {
            "application/vnd.jupyter.widget-view+json": {
              "model_id": "d4198afcb45c4666903c3bac01ac13e9",
              "version_minor": 0,
              "version_major": 2
            },
            "text/plain": [
              "HBox(children=(FloatProgress(value=0.0, max=170498071.0), HTML(value='')))"
            ]
          },
          "metadata": {
            "tags": []
          }
        },
        {
          "output_type": "stream",
          "text": [
            "\n",
            "Extracting CIFAR10/cifar-10-python.tar.gz to CIFAR10\n",
            "Files already downloaded and verified\n"
          ],
          "name": "stdout"
        }
      ]
    },
    {
      "cell_type": "markdown",
      "metadata": {
        "id": "8vcCJYrGax4N"
      },
      "source": [
        "### 2.2 Model\n",
        "\n",
        "**Hint**: Even though pretrained models are not allowed in your final version, you can use pretrained models to determine how well the structure CAN perform and use this as part of your analysis as to determining network structure."
      ]
    },
    {
      "cell_type": "markdown",
      "metadata": {
        "id": "5pUWX3Ip3p9e"
      },
      "source": [
        "**Model definition**"
      ]
    },
    {
      "cell_type": "code",
      "metadata": {
        "id": "brj3qQkNLnlO"
      },
      "source": [
        "import torchvision.models\n",
        "\n",
        "class MyNet(nn.Module):\n",
        "    def __init__(self):\n",
        "        super().__init__()\n",
        "        self.backbone = torchvision.models.vgg19(num_classes=10)\n",
        "    \n",
        "    def forward(self, data):\n",
        "        return self.backbone(data)\n",
        "\n",
        "net = MyNet().cuda()"
      ],
      "execution_count": null,
      "outputs": []
    },
    {
      "cell_type": "markdown",
      "metadata": {
        "id": "HHUS2sSd3toa"
      },
      "source": [
        "**Analysis tools**"
      ]
    },
    {
      "cell_type": "code",
      "metadata": {
        "colab": {
          "base_uri": "https://localhost:8080/"
        },
        "id": "Sb_Ume_bHEr0",
        "outputId": "54a4ceb1-b168-4bc4-ffdb-2dc558c0e2bb"
      },
      "source": [
        "def testset_precision(net, testset):\n",
        "    net.eval()\n",
        "    dl = DataLoader(testset, batch_size=512)\n",
        "    total_count = 0\n",
        "    total_correct = 0\n",
        "    for data in dl:\n",
        "        inputs = data[0].cuda()\n",
        "        targets = data[1].cuda()\n",
        "        outputs = net(inputs)\n",
        "        predicted_labels = outputs.argmax(dim=1)\n",
        "        comparison = predicted_labels == targets\n",
        "        total_count += predicted_labels.size(0)\n",
        "        total_correct += comparison.sum()\n",
        "    net.train()\n",
        "        \n",
        "    return int(total_correct) / int(total_count)\n",
        "\n",
        "print(f'Inital precision: {testset_precision(net, cifar10_test)}')\n",
        "\n",
        "from IPython import display\n",
        "import matplotlib.pyplot as plt\n",
        "import time\n",
        "\n",
        "class DrawingBoard:\n",
        "    def __init__(self, names, time_slot=60):\n",
        "        self.start_time = time.time()\n",
        "        self.time_slot = time_slot\n",
        "        self.annotations = []\n",
        "        self.data = {}\n",
        "        for name in names:\n",
        "            self.data[name] = []\n",
        "    \n",
        "    def update(self, data_dict):\n",
        "        for key in data_dict:\n",
        "            self.data[key].append(data_dict[key])\n",
        "        current_time = time.time() - self.start_time\n",
        "        idx = len(self.data[key]) -1\n",
        "        if len(self.annotations) == 0:\n",
        "            if current_time > self.time_slot:\n",
        "                self.annotations.append((idx, current_time))\n",
        "        elif current_time - (self.annotations[-1][1]//self.time_slot)*self.time_slot > self.time_slot:\n",
        "            self.annotations.append((idx, current_time))\n",
        "    \n",
        "    def draw(self):\n",
        "        all_keys = list(self.data.keys())\n",
        "        fig, ax = plt.subplots(nrows=1, ncols=len(all_keys))\n",
        "        fig.set_figwidth(20)\n",
        "        for idx in range(len(all_keys)):\n",
        "            ax[idx].plot(self.data[all_keys[idx]])\n",
        "            ax[idx].set_title(all_keys[idx])\n",
        "            for an in self.annotations:\n",
        "                ax[idx].annotate(f'{int(an[1])}s', xy=(an[0], self.data[all_keys[idx]][an[0]]),\n",
        "                    xytext=(0, -40), textcoords=\"offset points\",\n",
        "                    va=\"center\", ha=\"left\",\n",
        "                    bbox=dict(boxstyle=\"round\", fc=\"w\"),\n",
        "                    arrowprops=dict(arrowstyle=\"->\"))\n",
        "        display.clear_output(wait=True)\n",
        "        plt.show()"
      ],
      "execution_count": null,
      "outputs": [
        {
          "output_type": "stream",
          "text": [
            "Inital precision: 0.1\n"
          ],
          "name": "stdout"
        }
      ]
    },
    {
      "cell_type": "code",
      "metadata": {
        "id": "BgkJbvpOOa6m"
      },
      "source": [
        "# modify as you need\n",
        "criterion = nn.CrossEntropyLoss()\n",
        "optimizer = optim.Adam(net.parameters(), lr=0.001)\n",
        "dataloader = DataLoader(cifar10_train, batch_size=256, shuffle=True)"
      ],
      "execution_count": null,
      "outputs": []
    },
    {
      "cell_type": "markdown",
      "metadata": {
        "id": "ZwkS_qPD3y6E"
      },
      "source": [
        "## 3. Start Training\n",
        "\n",
        "This is the training part, take advantage of everything you know. In addition to the tips last time, you can also consider data augmentation, short cut structure in ResNet etc.\n",
        "\n",
        "Basically at this point, nothing is limited except time and pretrained models."
      ]
    },
    {
      "cell_type": "code",
      "metadata": {
        "id": "ox4DiCIyP835",
        "colab": {
          "base_uri": "https://localhost:8080/",
          "height": 298
        },
        "outputId": "13565f5e-f2f1-4e25-a9ca-c1516cb9bbff"
      },
      "source": [
        "# modify as you need\n",
        "import time\n",
        "import signal\n",
        "class TimeLimitation:\n",
        "    def __init__(self, limit):\n",
        "        self.limit = limit\n",
        "\n",
        "    def __enter__(self):\n",
        "        def handler(signum, frame):\n",
        "            raise NotImplementedError('Time\\'s up')\n",
        "        signal.signal(signal.SIGALRM, handler)\n",
        "        signal.alarm(self.limit)\n",
        "\n",
        "    def __exit__(self, exc_type, exc_val, exc_tb):\n",
        "        signal.alarm(0)\n",
        "\n",
        "\n",
        "with TimeLimitation(600): # don't forget the indentation\n",
        "    print('start training')\n",
        "    db = DrawingBoard(['training_loss', 'testset_precision'], time_slot=60)\n",
        "    for epoch in range(20):\n",
        "        for iter, data in enumerate(dataloader):\n",
        "            inputs = data[0].cuda()\n",
        "            targets = data[1].cuda()\n",
        "            outputs = net(inputs)\n",
        "\n",
        "            optimizer.zero_grad()\n",
        "            loss = criterion(outputs, targets)\n",
        "            loss.backward()\n",
        "            optimizer.step()\n",
        "\n",
        "            if iter % 20 == 0:\n",
        "                db.update({'training_loss':loss.item(), 'testset_precision': testset_precision(net, cifar10_test)})\n",
        "                db.draw()\n",
        "\n",
        "    print('finished')"
      ],
      "execution_count": null,
      "outputs": [
        {
          "output_type": "display_data",
          "data": {
            "image/png": "[encoded data removed]",
            "text/plain": [
              "<Figure size 1440x288 with 2 Axes>"
            ]
          },
          "metadata": {
            "tags": [],
            "needs_background": "light"
          }
        },
        {
          "output_type": "stream",
          "text": [
            "finished\n"
          ],
          "name": "stdout"
        }
      ]
    },
    {
      "cell_type": "markdown",
      "metadata": {
        "id": "WST0cHoKPZ02"
      },
      "source": [
        "# Marking Scheme\n",
        "\n",
        "*   Code implementation: 30%\n",
        "\n",
        "\n",
        "> * Successfully run through the whole project: 10%\n",
        "> * Code implementation quality: 20% (including performance)\n",
        "\n",
        "*   PDF report: 50%\n",
        "\n",
        "> * Overview, introduction to the network structure etc.: 10%\n",
        "> * In-depth analysis and improvements: 40%\n",
        "\n",
        "*   Presentation: 20%\n",
        "\n",
        "> * Overall demonstration: 10%\n",
        "> * Unfolding analysis: 10%"
      ]
    }
  ]
}